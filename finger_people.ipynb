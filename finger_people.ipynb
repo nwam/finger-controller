{
 "cells": [
  {
   "cell_type": "markdown",
   "metadata": {},
   "source": [
    "# Finger People experimental playground"
   ]
  },
  {
   "cell_type": "code",
   "execution_count": 30,
   "metadata": {},
   "outputs": [],
   "source": [
    "import numpy as np\n",
    "import cv2\n",
    "import os\n",
    "import math\n",
    "from helpers import imshow\n"
   ]
  },
  {
   "cell_type": "markdown",
   "metadata": {},
   "source": [
    "## Input Sources\n",
    "### Video file"
   ]
  },
  {
   "cell_type": "code",
   "execution_count": 20,
   "metadata": {},
   "outputs": [],
   "source": [
    "cap = cv2.VideoCapture('samples/all_moves_1_360.mp4') \n",
    "\n",
    "# all_moves_1 sizes: 360, 180, 90, 46"
   ]
  },
  {
   "cell_type": "markdown",
   "metadata": {},
   "source": [
    "### Camera"
   ]
  },
  {
   "cell_type": "code",
   "execution_count": 21,
   "metadata": {},
   "outputs": [
    {
     "data": {
      "text/plain": [
       "True"
      ]
     },
     "execution_count": 21,
     "metadata": {},
     "output_type": "execute_result"
    }
   ],
   "source": [
    "cap = cv2.VideoCapture(0)\n",
    "\n",
    "# reduce frame size to speed it up\n",
    "w = 180\n",
    "cap.set(cv2.CAP_PROP_FRAME_WIDTH, w) \n",
    "cap.set(cv2.CAP_PROP_FRAME_HEIGHT, w * 3/4) \n"
   ]
  },
  {
   "cell_type": "markdown",
   "metadata": {},
   "source": [
    "## Optical Flow of Hand\n",
    "#### Skin Detection and Optical Flow"
   ]
  },
  {
   "cell_type": "code",
   "execution_count": 4,
   "metadata": {},
   "outputs": [],
   "source": [
    "# HSV ranges for skin detection  \n",
    "skin_hsv_lower = np.array([0,  48,  80 ], dtype = \"uint8\")\n",
    "skin_hsv_upper = np.array([20, 255, 255], dtype = \"uint8\")\n",
    "\n",
    "def hsv_mask(img, lower, upper):\n",
    "    '''\n",
    "    Given a BGR image, returns a mask of pixels within lower and upper HSV space\n",
    "    \n",
    "    mask = hsv_mask(img, lower, upper)\n",
    "    \n",
    "    input\n",
    "        img: A BGR image\n",
    "        lower: 3-tuple with hue, saturation, and value of lower cutoff of mask\n",
    "        upper: 3-tuple with hue, saturation, and value of upper cutoff of mask\n",
    "        \n",
    "    output\n",
    "        mask: binary mask of pixels with HSV values between lower and upper\n",
    "    '''\n",
    "    \n",
    "    hsv = cv2.cvtColor(img, cv2.COLOR_BGR2HSV)\n",
    "    mask = cv2.inRange(hsv, lower, upper)\n",
    "    \n",
    "    return mask\n"
   ]
  },
  {
   "cell_type": "code",
   "execution_count": 41,
   "metadata": {},
   "outputs": [
    {
     "data": {
      "text/plain": [
       "-1"
      ]
     },
     "execution_count": 41,
     "metadata": {},
     "output_type": "execute_result"
    }
   ],
   "source": [
    "cap = cv2.VideoCapture('samples/all_moves_1_180.mp4') \n",
    "\n",
    "MIN_BLOB_SIZE = 200\n",
    "\n",
    "# Parameters for farneback optical flow\n",
    "fb_params = dict( pyr_scale = 0.5, \n",
    "                  levels = 3, \n",
    "                  winsize = 5, \n",
    "                  iterations = 3, \n",
    "                  poly_n = 5,\n",
    "                  poly_sigma = 1.2, \n",
    "                  flags = 0 )\n",
    "\n",
    "# Take the first frame\n",
    "_ret, init_frame = cap.read()\n",
    "prvs = cv2.cvtColor(init_frame,cv2.COLOR_BGR2GRAY)\n",
    "frame1 = cv2.flip(init_frame, 1)\n",
    "\n",
    "# For color representation of optical flow\n",
    "flow_vis = np.zeros_like(init_frame)\n",
    "flow_vis[...,1] = 255\n",
    "\n",
    "while(cap.isOpened()):\n",
    "    \n",
    "    # Get the next frame\n",
    "    _ret, frame = cap.read()\n",
    "    frame = cv2.flip(frame, 1)  \n",
    "    if not _ret:\n",
    "        break\n",
    "        \n",
    "    ''' SKIN MASK '''\n",
    "    skin_mask = hsv_mask(frame, skin_hsv_lower, skin_hsv_upper)\n",
    "    \n",
    "    kernel = cv2.getStructuringElement(cv2.MORPH_ELLIPSE, (3, 3))\n",
    "    skin_mask = cv2.morphologyEx(skin_mask, cv2.MORPH_OPEN, kernel, iterations = 2)\n",
    "    skin_mask = cv2.morphologyEx(skin_mask, cv2.MORPH_CLOSE, kernel, iterations = 2)\n",
    "    \n",
    "    im, contours, hierarchy = cv2.findContours(skin_mask, cv2.RETR_EXTERNAL, cv2.CHAIN_APPROX_SIMPLE)\n",
    "    lowest_contour = None\n",
    "    lowest_contour_height = math.inf\n",
    "    for i, contour in enumerate(contours):\n",
    "        \n",
    "        if cv2.contourArea(contour) >= MIN_BLOB_SIZE:\n",
    "            \n",
    "            # Find the lowest contour (that should be the hand, not face)\n",
    "            m = cv2.moments(contour)\n",
    "            contour_height = m['m10']/m['m00']\n",
    "            \n",
    "            if contour_height < lowest_contour_height:\n",
    "                lowest_contour = i\n",
    "                lowest_contour_height = contour_height\n",
    "            \n",
    "    # Draw in hand blob\n",
    "    hand_mask = np.zeros_like(skin_mask)\n",
    "    if lowest_contour:\n",
    "        cv2.drawContours(hand_mask, contours, lowest_contour, 255, -1)\n",
    "\n",
    "    ''' OPTICAL FLOW '''\n",
    "    next = cv2.cvtColor(frame,cv2.COLOR_BGR2GRAY)\n",
    "\n",
    "    flow = cv2.calcOpticalFlowFarneback(prvs, next, None, **fb_params)\n",
    "    mag, ang = cv2.cartToPolar(flow[...,0], flow[...,1])\n",
    "    \n",
    "    # Ignore non-hand movement\n",
    "    mag = cv2.bitwise_and(mag, mag, mask=hand_mask)    \n",
    "    \n",
    "    ''' MHI '''\n",
    "\n",
    "    ''' DEBUG/OUTPUT '''\n",
    "    # Make skin mask same shape as frame\n",
    "    hand_mask = cv2.cvtColor(hand_mask, cv2.COLOR_GRAY2BGR)\n",
    "    \n",
    "    # Create color representation of optical flow\n",
    "    flow_vis[...,0] = ang*180/np.pi/2\n",
    "    flow_vis[...,2] = cv2.normalize(mag,None,0,255,cv2.NORM_MINMAX)\n",
    "    flow_vis_bgr = cv2.cvtColor(flow_vis,cv2.COLOR_HSV2BGR)\n",
    "    \n",
    "    cv2.imshow('frame',np.hstack((frame, hand_mask, flow_vis_bgr)))\n",
    "\n",
    "    # Exit on ESC\n",
    "    k = cv2.waitKey(30) & 0xFF\n",
    "    if k == 27:\n",
    "        break\n",
    "\n",
    "    prvs = next\n",
    "        \n",
    "cap.release()\n",
    "cv2.destroyAllWindows()\n",
    "cv2.waitKey(1)\n"
   ]
  },
  {
   "cell_type": "code",
   "execution_count": null,
   "metadata": {},
   "outputs": [],
   "source": []
  },
  {
   "cell_type": "code",
   "execution_count": null,
   "metadata": {},
   "outputs": [],
   "source": []
  }
 ],
 "metadata": {
  "kernelspec": {
   "display_name": "Python 3",
   "language": "python",
   "name": "python3"
  },
  "language_info": {
   "codemirror_mode": {
    "name": "ipython",
    "version": 3
   },
   "file_extension": ".py",
   "mimetype": "text/x-python",
   "name": "python",
   "nbconvert_exporter": "python",
   "pygments_lexer": "ipython3",
   "version": "3.6.3"
  }
 },
 "nbformat": 4,
 "nbformat_minor": 2
}
