{
 "cells": [
  {
   "cell_type": "markdown",
   "metadata": {},
   "source": [
    "# Finger People experimental playground"
   ]
  },
  {
   "cell_type": "code",
   "execution_count": 1,
   "metadata": {},
   "outputs": [],
   "source": [
    "import numpy as np\n",
    "import cv2\n",
    "import os\n",
    "import math\n",
    "from helpers import imshow\n"
   ]
  },
  {
   "cell_type": "markdown",
   "metadata": {},
   "source": [
    "## Input Sources\n",
    "### Video file"
   ]
  },
  {
   "cell_type": "code",
   "execution_count": 2,
   "metadata": {},
   "outputs": [],
   "source": [
    "cap = cv2.VideoCapture('samples/all_moves_1_180.mp4') \n",
    "\n",
    "# all_moves_1 sizes: 360, 180, 90, 46"
   ]
  },
  {
   "cell_type": "markdown",
   "metadata": {},
   "source": [
    "### Camera"
   ]
  },
  {
   "cell_type": "code",
   "execution_count": 81,
   "metadata": {},
   "outputs": [
    {
     "data": {
      "text/plain": [
       "True"
      ]
     },
     "execution_count": 81,
     "metadata": {},
     "output_type": "execute_result"
    }
   ],
   "source": [
    "cap = cv2.VideoCapture(1)\n",
    "\n",
    "# reduce frame size to speed it up\n",
    "w = 180\n",
    "h = w * 3/4\n",
    "cap.set(cv2.CAP_PROP_FRAME_WIDTH, w) \n",
    "cap.set(cv2.CAP_PROP_FRAME_HEIGHT, h) \n",
    "cap.set(cv2.CAP_PROP_FPS, 60)\n"
   ]
  },
  {
   "cell_type": "markdown",
   "metadata": {},
   "source": [
    "## Optical Flow of Hand\n",
    "#### Skin Detection Helpers"
   ]
  },
  {
   "cell_type": "code",
   "execution_count": 69,
   "metadata": {},
   "outputs": [
    {
     "data": {
      "image/png": "[encoded data removed]",
      "text/plain": [
       "<matplotlib.figure.Figure at 0x7f7f262aeda0>"
      ]
     },
     "metadata": {},
     "output_type": "display_data"
    },
    {
     "name": "stdout",
     "output_type": "stream",
     "text": [
      "(0.0, 27.0, 101.0) (10.0, 138.0, 255.0)\n"
     ]
    }
   ],
   "source": [
    "# HSV ranges for skin detection  \n",
    "skin_hsv_lower = np.array([0,  24,  80 ], dtype = \"uint8\")\n",
    "skin_hsv_upper = np.array([20, 120, 255], dtype = \"uint8\")\n",
    "\n",
    "def hsv_mask(img, lower, upper):\n",
    "    '''\n",
    "    Given a BGR image, returns a mask of pixels within lower and upper HSV space\n",
    "    \n",
    "    mask = hsv_mask(img, lower, upper)\n",
    "    \n",
    "    input\n",
    "        img: A BGR image\n",
    "        lower: 3-tuple with hue, saturation, and value of lower cutoff of mask\n",
    "        upper: 3-tuple with hue, saturation, and value of upper cutoff of mask\n",
    "        \n",
    "    output\n",
    "        mask: binary mask of pixels with HSV values between lower and upper\n",
    "    '''\n",
    "    \n",
    "    hsv = cv2.cvtColor(img, cv2.COLOR_BGR2HSV)\n",
    "    mask = np.zeros((img.shape[:2]), dtype=np.uint8)\n",
    "    \n",
    "    if lower[0] > upper[0]:\n",
    "        # To account for hue wrapping around 180 to 0\n",
    "        lower_middle = (180, upper[1], upper[2])\n",
    "        upper_middle = (0,   lower[1], lower[2])\n",
    "        \n",
    "        mask_lower = cv2.inRange(hsv, lower, lower_middle)\n",
    "        mask_upper = cv2.inRange(hsv, upper_middle, upper)\n",
    "        \n",
    "        mask = mask_lower + mask_upper\n",
    "        \n",
    "    else:\n",
    "        mask = cv2.inRange(hsv, lower, upper)\n",
    "    \n",
    "    return mask\n",
    "\n",
    "def get_roi_sample(cap):\n",
    "    '''\n",
    "    Draws a rectangle on the screen\n",
    "    Returns the pixels in the region upon pressing space\n",
    "    '''\n",
    "    _ret, frame = cap.read()\n",
    "    h = frame.shape[0]\n",
    "    w = frame.shape[1]\n",
    "    p0 = (int(w/2-h/16), int(h/2-h/16))\n",
    "    p1 = (int(w/2+h/16), int(h/2+h/16))\n",
    "    \n",
    "    while cap.isOpened():\n",
    "        _ret, frame = cap.read()\n",
    "        frame = cv2.flip(frame, 1)  \n",
    "        \n",
    "        if not _ret:\n",
    "            break\n",
    "            \n",
    "        frame_display = frame.copy()\n",
    "        cv2.rectangle(frame_display, p0, p1, (0,255,0), 2)\n",
    "        cv2.imshow('frame', frame_display)\n",
    "        \n",
    "        key = cv2.waitKey(5)\n",
    "        if key == ord(' '):\n",
    "            break\n",
    "            \n",
    "    box_sample = frame[p0[1]:p1[1], p0[0]:p1[0]]\n",
    "    return box_sample\n",
    "\n",
    "def get_hsv_range(img):\n",
    "    '''\n",
    "    min_hsv, max_hsv = get_hsv_range(img)\n",
    "    \n",
    "    Finds and returns the bounds of hsv in an image.\n",
    "    Shifts hue such that blue is around the 180/0 border \n",
    "    so that skin range can be easily evaluated\n",
    "    \n",
    "    Input\n",
    "        img: bgr image\n",
    "    \n",
    "    Output\n",
    "        min_hsv: 3-tuple containing the mininum hue, saturation, and value found in img\n",
    "        max_hsv: 3-tuple containing the maximum hue, saturation, and value found in img\n",
    "    '''\n",
    "    img = cv2.cvtColor(img, cv2.COLOR_BGR2HSV)\n",
    "    hue = img[:,:,0]\n",
    "    sat = img[:,:,1]\n",
    "    val = img[:,:,2]\n",
    "    \n",
    "    hue = (hue + 90)%180 # shift skin hues away from the 180/0 border\n",
    "    min_hue, max_hue, _, _ = cv2.minMaxLoc(hue)\n",
    "    min_hue = (min_hue - 90)%180\n",
    "    max_hue = (max_hue - 90)%180\n",
    "    \n",
    "    min_sat, max_sat, _, _ = cv2.minMaxLoc(sat)\n",
    "    min_val, max_val, _, _ = cv2.minMaxLoc(val)\n",
    "    \n",
    "    return (min_hue, min_sat, min_val), (max_hue, max_sat, max_val)\n",
    "\n",
    "\n",
    "sample = get_roi_sample(cap)\n",
    "cap.release()\n",
    "cv2.destroyAllWindows()\n",
    "cv2.waitKey(1)\n",
    "imshow(sample, 'Skin Sample')\n",
    "\n",
    "min_hsv, max_hsv = get_hsv_range(sample)\n",
    "print(min_hsv, max_hsv)"
   ]
  },
  {
   "cell_type": "markdown",
   "metadata": {},
   "source": [
    "### Finger People"
   ]
  },
  {
   "cell_type": "code",
   "execution_count": 82,
   "metadata": {},
   "outputs": [
    {
     "data": {
      "text/plain": [
       "-1"
      ]
     },
     "execution_count": 82,
     "metadata": {},
     "output_type": "execute_result"
    }
   ],
   "source": [
    "#cap = cv2.VideoCapture('samples/all_moves_1_180.mp4') \n",
    "\n",
    "MIN_BLOB_SIZE = 200\n",
    "mhi_alpha = 0.75\n",
    "\n",
    "# Parameters for farneback optical flow\n",
    "fb_params = dict( pyr_scale = 0.5, \n",
    "                  levels = 3, \n",
    "                  winsize = 5, \n",
    "                  iterations = 3, \n",
    "                  poly_n = 5,\n",
    "                  poly_sigma = 1.2, \n",
    "                  flags = 0 )\n",
    "\n",
    "# Take the first frame\n",
    "_ret, init_frame = cap.read()\n",
    "prvs = cv2.cvtColor(init_frame,cv2.COLOR_BGR2GRAY)\n",
    "frame1 = cv2.flip(init_frame, 1)\n",
    "\n",
    "# For color representation of optical flow\n",
    "flow_vis = np.zeros_like(init_frame)\n",
    "flow_vis[...,1] = 255\n",
    "\n",
    "# Motion history image\n",
    "mag_hist = np.zeros((init_frame.shape[:2]), dtype=np.float32)\n",
    "ang_hist = np.zeros((init_frame.shape[:2]), dtype=np.float32)\n",
    "mhi = np.zeros_like(init_frame)\n",
    "mhi[...,1] = 255\n",
    "\n",
    "while cap.isOpened():\n",
    "    \n",
    "    # Get the next frame\n",
    "    _ret, frame = cap.read()\n",
    "    frame = cv2.flip(frame, 1)  \n",
    "    if not _ret:\n",
    "        break\n",
    "        \n",
    "    ''' SKIN MASK '''\n",
    "    skin_mask = hsv_mask(frame, skin_hsv_lower, skin_hsv_upper)\n",
    "    \n",
    "    kernel = cv2.getStructuringElement(cv2.MORPH_ELLIPSE, (3, 3))\n",
    "    skin_mask = cv2.morphologyEx(skin_mask, cv2.MORPH_OPEN, kernel, iterations = 2)\n",
    "    skin_mask = cv2.morphologyEx(skin_mask, cv2.MORPH_CLOSE, kernel, iterations = 2)\n",
    "    \n",
    "    im, contours, hierarchy = cv2.findContours(skin_mask, cv2.RETR_EXTERNAL, cv2.CHAIN_APPROX_SIMPLE)\n",
    "    lowest_contour = None\n",
    "    lowest_contour_height = math.inf\n",
    "    for i, contour in enumerate(contours):\n",
    "        \n",
    "        if cv2.contourArea(contour) >= MIN_BLOB_SIZE:\n",
    "            \n",
    "            # Find the lowest contour (that should be the hand, not face)\n",
    "            m = cv2.moments(contour)\n",
    "            contour_height = m['m10']/m['m00']\n",
    "            \n",
    "            if contour_height < lowest_contour_height:\n",
    "                lowest_contour = i\n",
    "                lowest_contour_height = contour_height\n",
    "            \n",
    "    # Draw in hand blob\n",
    "    hand_mask = np.zeros_like(skin_mask)\n",
    "    if lowest_contour:\n",
    "        cv2.drawContours(hand_mask, contours, lowest_contour, 255, -1)\n",
    "\n",
    "    ''' OPTICAL FLOW '''\n",
    "    next = cv2.cvtColor(frame,cv2.COLOR_BGR2GRAY)\n",
    "\n",
    "    flow = cv2.calcOpticalFlowFarneback(prvs, next, None, **fb_params)\n",
    "    mag, ang = cv2.cartToPolar(flow[...,0], flow[...,1])\n",
    "    \n",
    "    # Ignore non-hand movement\n",
    "    #mag = cv2.bitwise_and(mag, mag, mask=hand_mask)    \n",
    "       \n",
    "    ''' MHI '''\n",
    "    mag_hist = mhi_alpha*mag_hist + (1-mhi_alpha)*mag\n",
    "    ang_hist = mhi_alpha*ang_hist + (1-mhi_alpha)*ang\n",
    "    mhi[...,0] = ang_hist*180/np.pi/2\n",
    "    mhi[...,2] = cv2.normalize(mag_hist, None, 0, 255, cv2.NORM_MINMAX)\n",
    "\n",
    "    ''' OUTPUT/DEBUG '''\n",
    "    hand_mask = cv2.cvtColor(hand_mask, cv2.COLOR_GRAY2BGR)\n",
    "    \n",
    "    # Create color representation of optical flow\n",
    "    flow_vis[...,0] = ang*180/np.pi/2\n",
    "    flow_vis[...,2] = cv2.normalize(mag,None,0,255,cv2.NORM_MINMAX)\n",
    "    flow_vis_bgr = cv2.cvtColor(flow_vis,cv2.COLOR_HSV2BGR)\n",
    "    \n",
    "    # Create color representation of mhi\n",
    "    mhi_bgr = cv2.cvtColor(mhi, cv2.COLOR_HSV2BGR)\n",
    "    \n",
    "    cv2.imshow('frame',np.hstack((frame, cv2.cvtColor(skin_mask, cv2.COLOR_GRAY2BGR), flow_vis_bgr, mhi_bgr)))\n",
    "\n",
    "    # Exit on ESC\n",
    "    key = cv2.waitKey(5) & 0xFF\n",
    "    if key == 27:\n",
    "        break\n",
    "    if key == ord('q'):\n",
    "        break\n",
    "\n",
    "    prvs = next\n",
    "        \n",
    "cap.release()\n",
    "cv2.destroyAllWindows()\n",
    "cv2.waitKey(1)\n"
   ]
  },
  {
   "cell_type": "code",
   "execution_count": null,
   "metadata": {},
   "outputs": [],
   "source": []
  }
 ],
 "metadata": {
  "kernelspec": {
   "display_name": "Python 3",
   "language": "python",
   "name": "python3"
  },
  "language_info": {
   "codemirror_mode": {
    "name": "ipython",
    "version": 3
   },
   "file_extension": ".py",
   "mimetype": "text/x-python",
   "name": "python",
   "nbconvert_exporter": "python",
   "pygments_lexer": "ipython3",
   "version": "3.6.3"
  }
 },
 "nbformat": 4,
 "nbformat_minor": 2
}
